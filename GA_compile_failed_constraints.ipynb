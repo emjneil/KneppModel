{
 "cells": [
  {
   "cell_type": "code",
   "execution_count": 2,
   "metadata": {},
   "outputs": [],
   "source": [
    "import pandas as pd \n",
    "import matplotlib.pyplot as plt\n",
    "import seaborn as sns\n",
    "import numpy as np"
   ]
  },
  {
   "cell_type": "markdown",
   "metadata": {},
   "source": [
    "# First round of 100 GAs"
   ]
  },
  {
   "cell_type": "code",
   "execution_count": 26,
   "metadata": {},
   "outputs": [],
   "source": [
    "# open the timeseries files and concat them - remember to add +5k to each run_number\n",
    "df_1 = pd.read_csv(\"all_df_ga_1.csv\").drop(columns=[\"Unnamed: 0\"])\n",
    "df_2 = pd.read_csv(\"all_df_ga_2.csv\").drop(columns=[\"Unnamed: 0\"])\n",
    "df_3 = pd.read_csv(\"all_df_ga_3.csv\").drop(columns=[\"Unnamed: 0\"])\n",
    "df_4 = pd.read_csv(\"all_df_ga_4.csv\").drop(columns=[\"Unnamed: 0\"])\n",
    "df_5 = pd.read_csv(\"all_df_ga_5.csv\").drop(columns=[\"Unnamed: 0\"])\n",
    "df_6 = pd.read_csv(\"all_df_ga_6.csv\").drop(columns=[\"Unnamed: 0\"])\n",
    "df_7 = pd.read_csv(\"all_df_ga_7.csv\").drop(columns=[\"Unnamed: 0\"])\n",
    "df_8 = pd.read_csv(\"all_df_ga_8.csv\").drop(columns=[\"Unnamed: 0\"])\n",
    "df_9 = pd.read_csv(\"all_df_ga_9.csv\").drop(columns=[\"Unnamed: 0\"])\n",
    "df_10 = pd.read_csv(\"all_df_ga_10.csv\").drop(columns=[\"Unnamed: 0\"])\n",
    "\n",
    "combined_df = pd.concat([df_1, df_2, df_3, df_4, df_5, df_6, df_7, df_8, df_9, df_10], axis=0)"
   ]
  },
  {
   "cell_type": "code",
   "execution_count": 27,
   "metadata": {},
   "outputs": [
    {
     "name": "stdout",
     "output_type": "stream",
     "text": [
      "Constraint 1 100.0\n",
      "Constraint 2 0.0\n",
      "Constraint 3 100.0\n",
      "Constraint 4 19.0\n",
      "Constraint 5 4.0\n",
      "Constraint 6 5.0\n",
      "Constraint All Constraints 0.0\n"
     ]
    }
   ],
   "source": [
    "print(\"Constraint 1\", sum(combined_df[\"Passed Constraint 1\"])/len(combined_df.index)*100)\n",
    "print(\"Constraint 2\", sum(combined_df[\"Passed Constraint 2\"])/len(combined_df.index)*100)\n",
    "print(\"Constraint 3\", sum(combined_df[\"Passed Constraint 3\"])/len(combined_df.index)*100)\n",
    "print(\"Constraint 4\", sum(combined_df[\"Passed Constraint 4\"])/len(combined_df.index)*100)\n",
    "print(\"Constraint 5\", sum(combined_df[\"Passed Constraint 5\"])/len(combined_df.index)*100)\n",
    "print(\"Constraint 6\", sum(combined_df[\"Passed Constraint 6\"])/len(combined_df.index)*100)\n",
    "print(\"Constraint All Constraints\", sum(combined_df[\"Passed All Constraints\"])/len(combined_df.index)*100)"
   ]
  },
  {
   "cell_type": "code",
   "execution_count": 28,
   "metadata": {},
   "outputs": [
    {
     "name": "stdout",
     "output_type": "stream",
     "text": [
      "min 7.322423758872453\n",
      "max 14.817361443814594\n"
     ]
    }
   ],
   "source": [
    "print(\"min\", combined_df[\"Fit\"].min())\n",
    "print(\"max\", combined_df[\"Fit\"].max())"
   ]
  },
  {
   "cell_type": "markdown",
   "metadata": {},
   "source": [
    "# Second round of GAs"
   ]
  },
  {
   "cell_type": "code",
   "execution_count": 25,
   "metadata": {},
   "outputs": [],
   "source": [
    "# open the timeseries files and concat them - remember to add +5k to each run_number\n",
    "df_1 = pd.read_csv(\"all_df_ga_manualadjustments_1.csv\").drop(columns=[\"Unnamed: 0\"])\n",
    "df_2 = pd.read_csv(\"all_df_ga_manualadjustments_2.csv\").drop(columns=[\"Unnamed: 0\"])\n",
    "df_3 = pd.read_csv(\"all_df_ga_manualadjustments_3.csv\").drop(columns=[\"Unnamed: 0\"])\n",
    "df_4 = pd.read_csv(\"all_df_ga_manualadjustments_4.csv\").drop(columns=[\"Unnamed: 0\"])\n",
    "df_5 = pd.read_csv(\"all_df_ga_manualadjustments_5.csv\").drop(columns=[\"Unnamed: 0\"])\n",
    "df_6 = pd.read_csv(\"all_df_ga_manualadjustments_6.csv\").drop(columns=[\"Unnamed: 0\"])\n",
    "df_7 = pd.read_csv(\"all_df_ga_manualadjustments_7.csv\").drop(columns=[\"Unnamed: 0\"])\n",
    "df_8 = pd.read_csv(\"all_df_ga_manualadjustments_8.csv\").drop(columns=[\"Unnamed: 0\"])\n",
    "df_9 = pd.read_csv(\"all_df_ga_manualadjustments_9.csv\").drop(columns=[\"Unnamed: 0\"])\n",
    "df_10 = pd.read_csv(\"all_df_ga_manualadjustments_10.csv\").drop(columns=[\"Unnamed: 0\"])\n",
    "\n",
    "combined_df = pd.concat([df_1, df_2, df_3, df_4, df_5, df_6, df_7, df_8, df_9, df_10], axis=0).reset_index(drop=True)"
   ]
  },
  {
   "cell_type": "code",
   "execution_count": 26,
   "metadata": {},
   "outputs": [
    {
     "name": "stdout",
     "output_type": "stream",
     "text": [
      "Constraint 1 100.0\n",
      "Constraint 2 63.0\n",
      "Constraint 3 100.0\n",
      "Constraint 4 27.0\n",
      "Constraint 5 32.0\n",
      "Constraint 6 12.0\n",
      "Passed All Constraints 1.0\n"
     ]
    }
   ],
   "source": [
    "print(\"Constraint 1\", sum(combined_df[\"Passed Constraint 1\"])/len(combined_df.index)*100)\n",
    "print(\"Constraint 2\", sum(combined_df[\"Passed Constraint 2\"])/len(combined_df.index)*100)\n",
    "print(\"Constraint 3\", sum(combined_df[\"Passed Constraint 3\"])/len(combined_df.index)*100)\n",
    "print(\"Constraint 4\", sum(combined_df[\"Passed Constraint 4\"])/len(combined_df.index)*100)\n",
    "print(\"Constraint 5\", sum(combined_df[\"Passed Constraint 5\"])/len(combined_df.index)*100)\n",
    "print(\"Constraint 6\", sum(combined_df[\"Passed Constraint 6\"])/len(combined_df.index)*100)\n",
    "print(\"Passed All Constraints\", sum(combined_df[\"Passed All Constraints\"])/len(combined_df.index)*100)"
   ]
  },
  {
   "cell_type": "code",
   "execution_count": 28,
   "metadata": {},
   "outputs": [
    {
     "name": "stdout",
     "output_type": "stream",
     "text": [
      "min 2.61356788\n",
      "max 4.76784870514249\n"
     ]
    }
   ],
   "source": [
    "print(\"min\", combined_df[\"Fit\"].min())\n",
    "print(\"max\", combined_df[\"Fit\"].max())"
   ]
  }
 ],
 "metadata": {
  "kernelspec": {
   "display_name": "Python 3",
   "language": "python",
   "name": "python3"
  },
  "language_info": {
   "codemirror_mode": {
    "name": "ipython",
    "version": 3
   },
   "file_extension": ".py",
   "mimetype": "text/x-python",
   "name": "python",
   "nbconvert_exporter": "python",
   "pygments_lexer": "ipython3",
   "version": "3.9.6"
  },
  "orig_nbformat": 4
 },
 "nbformat": 4,
 "nbformat_minor": 2
}
