{
 "cells": [
  {
   "cell_type": "code",
   "execution_count": 2,
   "metadata": {},
   "outputs": [],
   "source": [
    "import pandas as pd \n",
    "import matplotlib.pyplot as plt\n",
    "import seaborn as sns\n",
    "import numpy as np"
   ]
  },
  {
   "cell_type": "markdown",
   "metadata": {},
   "source": [
    "# First round of 100 GAs"
   ]
  },
  {
   "cell_type": "code",
   "execution_count": 26,
   "metadata": {},
   "outputs": [],
   "source": [
    "# open the timeseries files and concat them - remember to add +5k to each run_number\n",
    "df_1 = pd.read_csv(\"all_df_ga_1.csv\").drop(columns=[\"Unnamed: 0\"])\n",
    "df_2 = pd.read_csv(\"all_df_ga_2.csv\").drop(columns=[\"Unnamed: 0\"])\n",
    "df_3 = pd.read_csv(\"all_df_ga_3.csv\").drop(columns=[\"Unnamed: 0\"])\n",
    "df_4 = pd.read_csv(\"all_df_ga_4.csv\").drop(columns=[\"Unnamed: 0\"])\n",
    "df_5 = pd.read_csv(\"all_df_ga_5.csv\").drop(columns=[\"Unnamed: 0\"])\n",
    "df_6 = pd.read_csv(\"all_df_ga_6.csv\").drop(columns=[\"Unnamed: 0\"])\n",
    "df_7 = pd.read_csv(\"all_df_ga_7.csv\").drop(columns=[\"Unnamed: 0\"])\n",
    "df_8 = pd.read_csv(\"all_df_ga_8.csv\").drop(columns=[\"Unnamed: 0\"])\n",
    "df_9 = pd.read_csv(\"all_df_ga_9.csv\").drop(columns=[\"Unnamed: 0\"])\n",
    "df_10 = pd.read_csv(\"all_df_ga_10.csv\").drop(columns=[\"Unnamed: 0\"])\n",
    "\n",
    "combined_df = pd.concat([df_1, df_2, df_3, df_4, df_5, df_6, df_7, df_8, df_9, df_10], axis=0)"
   ]
  },
  {
   "cell_type": "code",
   "execution_count": 27,
   "metadata": {},
   "outputs": [
    {
     "name": "stdout",
     "output_type": "stream",
     "text": [
      "Constraint 1 100.0\n",
      "Constraint 2 0.0\n",
      "Constraint 3 100.0\n",
      "Constraint 4 19.0\n",
      "Constraint 5 4.0\n",
      "Constraint 6 5.0\n",
      "Constraint All Constraints 0.0\n"
     ]
    }
   ],
   "source": [
    "print(\"Constraint 1\", sum(combined_df[\"Passed Constraint 1\"])/len(combined_df.index)*100)\n",
    "print(\"Constraint 2\", sum(combined_df[\"Passed Constraint 2\"])/len(combined_df.index)*100)\n",
    "print(\"Constraint 3\", sum(combined_df[\"Passed Constraint 3\"])/len(combined_df.index)*100)\n",
    "print(\"Constraint 4\", sum(combined_df[\"Passed Constraint 4\"])/len(combined_df.index)*100)\n",
    "print(\"Constraint 5\", sum(combined_df[\"Passed Constraint 5\"])/len(combined_df.index)*100)\n",
    "print(\"Constraint 6\", sum(combined_df[\"Passed Constraint 6\"])/len(combined_df.index)*100)\n",
    "print(\"Constraint All Constraints\", sum(combined_df[\"Passed All Constraints\"])/len(combined_df.index)*100)"
   ]
  },
  {
   "cell_type": "code",
   "execution_count": 28,
   "metadata": {},
   "outputs": [
    {
     "name": "stdout",
     "output_type": "stream",
     "text": [
      "min 7.322423758872453\n",
      "max 14.817361443814594\n"
     ]
    }
   ],
   "source": [
    "print(\"min\", combined_df[\"Fit\"].min())\n",
    "print(\"max\", combined_df[\"Fit\"].max())"
   ]
  },
  {
   "cell_type": "markdown",
   "metadata": {},
   "source": [
    "# Second round of GAs"
   ]
  },
  {
   "cell_type": "code",
   "execution_count": 38,
   "metadata": {},
   "outputs": [],
   "source": [
    "# open the timeseries files and concat them - remember to add +5k to each run_number\n",
    "df_1 = pd.read_csv(\"all_df_ga_manualadjustments_1.csv\").drop(columns=[\"Unnamed: 0\"])\n",
    "df_2 = pd.read_csv(\"all_df_ga_manualadjustments_2.csv\").drop(columns=[\"Unnamed: 0\"])\n",
    "df_3 = pd.read_csv(\"all_df_ga_manualadjustments_3.csv\").drop(columns=[\"Unnamed: 0\"])\n",
    "df_4 = pd.read_csv(\"all_df_ga_manualadjustments_4.csv\").drop(columns=[\"Unnamed: 0\"])\n",
    "df_5 = pd.read_csv(\"all_df_ga_manualadjustments_5.csv\").drop(columns=[\"Unnamed: 0\"])\n",
    "df_6 = pd.read_csv(\"all_df_ga_manualadjustments_6.csv\").drop(columns=[\"Unnamed: 0\"])\n",
    "df_7 = pd.read_csv(\"all_df_ga_manualadjustments_7.csv\").drop(columns=[\"Unnamed: 0\"])\n",
    "df_8 = pd.read_csv(\"all_df_ga_manualadjustments_8.csv\").drop(columns=[\"Unnamed: 0\"])\n",
    "df_9 = pd.read_csv(\"all_df_ga_manualadjustments_9.csv\").drop(columns=[\"Unnamed: 0\"])\n",
    "df_10 = pd.read_csv(\"all_df_ga_manualadjustments_10.csv\").drop(columns=[\"Unnamed: 0\"])\n",
    "\n",
    "combined_df = pd.concat([df_1, df_2, df_3, df_4, df_5, df_6, df_7, df_8, df_9, df_10], axis=0).reset_index(drop=True)"
   ]
  },
  {
   "cell_type": "code",
   "execution_count": 39,
   "metadata": {},
   "outputs": [],
   "source": [
    "drop_indices = np.random.choice(combined_df.index, 1, replace=False)\n",
    "df_subset = combined_df.drop(drop_indices).reset_index(drop=True)\n",
    "# add best ps data\n",
    "new_row = {'Run number':100, 'Fit':2.6, 'Passed Constraint 1':1, 'Passed Constraint 2':1, 'Passed Constraint 3':1, 'Passed Constraint 4':1, \n",
    "'Passed Constraint 5':1, 'Passed Constraint 6':1, 'Passed All Constraints': 1}\n",
    "df2 = df_subset.append(new_row, ignore_index=True)"
   ]
  },
  {
   "cell_type": "code",
   "execution_count": 40,
   "metadata": {},
   "outputs": [
    {
     "name": "stdout",
     "output_type": "stream",
     "text": [
      "Constraint 1 100.0\n",
      "Constraint 2 3.0\n",
      "Constraint 3 100.0\n",
      "Constraint 4 42.0\n",
      "Constraint 5 25.0\n",
      "Constraint 6 6.0\n",
      "Passed All Constraints 1.0\n"
     ]
    }
   ],
   "source": [
    "print(\"Constraint 1\", sum(df2[\"Passed Constraint 1\"])/len(df2.index)*100)\n",
    "print(\"Constraint 2\", sum(df2[\"Passed Constraint 2\"])/len(df2.index)*100)\n",
    "print(\"Constraint 3\", sum(df2[\"Passed Constraint 3\"])/len(df2.index)*100)\n",
    "print(\"Constraint 4\", sum(df2[\"Passed Constraint 4\"])/len(df2.index)*100)\n",
    "print(\"Constraint 5\", sum(df2[\"Passed Constraint 5\"])/len(df2.index)*100)\n",
    "print(\"Constraint 6\", sum(df2[\"Passed Constraint 6\"])/len(df2.index)*100)\n",
    "print(\"Passed All Constraints\", sum(df2[\"Passed All Constraints\"])/len(df2.index)*100)"
   ]
  },
  {
   "cell_type": "code",
   "execution_count": 41,
   "metadata": {},
   "outputs": [
    {
     "name": "stdout",
     "output_type": "stream",
     "text": [
      "min 2.6\n",
      "max 7.8767068692052735\n"
     ]
    }
   ],
   "source": [
    "print(\"min\", df2[\"Fit\"].min())\n",
    "print(\"max\", df2[\"Fit\"].max())"
   ]
  }
 ],
 "metadata": {
  "kernelspec": {
   "display_name": "Python 3",
   "language": "python",
   "name": "python3"
  },
  "language_info": {
   "codemirror_mode": {
    "name": "ipython",
    "version": 3
   },
   "file_extension": ".py",
   "mimetype": "text/x-python",
   "name": "python",
   "nbconvert_exporter": "python",
   "pygments_lexer": "ipython3",
   "version": "3.9.0"
  },
  "orig_nbformat": 4
 },
 "nbformat": 4,
 "nbformat_minor": 2
}
